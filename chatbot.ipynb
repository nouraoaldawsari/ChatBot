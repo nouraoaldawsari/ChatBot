{
  "nbformat": 4,
  "nbformat_minor": 0,
  "metadata": {
    "colab": {
      "provenance": [],
      "include_colab_link": true
    },
    "kernelspec": {
      "name": "python3",
      "display_name": "Python 3"
    },
    "language_info": {
      "name": "python"
    }
  },
  "cells": [
    {
      "cell_type": "markdown",
      "metadata": {
        "id": "view-in-github",
        "colab_type": "text"
      },
      "source": [
        "<a href=\"https://colab.research.google.com/github/nouraoaldawsari/Project1/blob/main/chatbot.ipynb\" target=\"_parent\"><img src=\"https://colab.research.google.com/assets/colab-badge.svg\" alt=\"Open In Colab\"/></a>"
      ]
    },
    {
      "cell_type": "markdown",
      "source": [
        "# Step-1: Connecting with Google Drive Files and Folders"
      ],
      "metadata": {
        "id": "jmsUlgrfpmaY"
      }
    },
    {
      "cell_type": "code",
      "execution_count": null,
      "metadata": {
        "id": "lXVsEpKEmdDy",
        "colab": {
          "base_uri": "https://localhost:8080/"
        },
        "outputId": "f5813b71-e376-4c1c-9b7d-144f01971a25"
      },
      "outputs": [
        {
          "output_type": "stream",
          "name": "stdout",
          "text": [
            "Mounted at /content/drive\n"
          ]
        }
      ],
      "source": [
        "#Mounting the Google Drive\n",
        "from google.colab import drive\n",
        "drive.mount ('/content/drive')\n",
        "data_root='/content/drive/My Drive/ChatBot'"
      ]
    },
    {
      "cell_type": "markdown",
      "source": [
        "# Step-2: Importing Relevant Libraries"
      ],
      "metadata": {
        "id": "e6Kp8aQTzpmn"
      }
    },
    {
      "cell_type": "code",
      "source": [
        "#2 Importing Relevant Libraries\n",
        "import json\n",
        "import string\n",
        "import random\n",
        "\n",
        "import nltk\n",
        "import numpy as np\n",
        "from nltk.stem import WordNetLemmatizer\n",
        "import tensorflow as tf\n",
        "from tensorflow.keras import Sequential\n",
        "from tensorflow.keras.layers import Dense, Dropout\n",
        "nltk.download(\"punkt\")\n",
        "nltk.download(\"wordnet\")"
      ],
      "metadata": {
        "id": "BX4FxwL3zsXO",
        "colab": {
          "base_uri": "https://localhost:8080/"
        },
        "outputId": "63a7dc1b-b7ff-4999-b230-39c7f0943387"
      },
      "execution_count": null,
      "outputs": [
        {
          "output_type": "stream",
          "name": "stderr",
          "text": [
            "[nltk_data] Downloading package punkt to /root/nltk_data...\n",
            "[nltk_data]   Unzipping tokenizers/punkt.zip.\n",
            "[nltk_data] Downloading package wordnet to /root/nltk_data...\n"
          ]
        },
        {
          "output_type": "execute_result",
          "data": {
            "text/plain": [
              "True"
            ]
          },
          "metadata": {},
          "execution_count": 2
        }
      ]
    },
    {
      "cell_type": "markdown",
      "source": [
        "# Step-3: Reading the JSON file"
      ],
      "metadata": {
        "id": "88-I8DVk16FO"
      }
    },
    {
      "cell_type": "code",
      "source": [
        "#Loading the Dataset: intents.json\n",
        "data_file = open(data_root + '/intents.json').read()\n",
        "data = json.loads(data_file)"
      ],
      "metadata": {
        "id": "AzziFOf118kO"
      },
      "execution_count": null,
      "outputs": []
    },
    {
      "cell_type": "markdown",
      "source": [
        "# Step-4: Identifying Feature and Target for the NLP Model"
      ],
      "metadata": {
        "id": "zOUc_3AY3OrG"
      }
    },
    {
      "cell_type": "code",
      "source": [
        "nltk.download('omw-1.4')\n",
        "#4 Creating data X and data Y\n",
        "words = [] #For Bow model/ vocabulary for patterns\n",
        "classes = [] #For Bow model/ vocabulary for tags\n",
        "data_X = [] #For storing each pattern\n",
        "data_y = [] #for storing tag corresponding to each pattern in data_X\n",
        "# Iterating over all the intents\n",
        "\n",
        "for intent in data[\"intents\"]:\n",
        "  for pattern in intent[\"patterns\"]:\n",
        "    tokens = nltk.word_tokenize(pattern) # tokenize each pattern\n",
        "    words.extend(tokens) #and append tokens to words\n",
        "    data_X.append(pattern) #appending pattern to data_X\n",
        "    data_y.append(intent[\"tag\"]) ,# appending the associated tag to each pattern\n",
        "\n",
        "  # adding the tag to the classes if it's not there already\n",
        "  if intent[\"tag\"] not in classes:\n",
        "    classes.append(intent[\"tag\"])\n",
        "\n",
        "# initializing lemmatizer to get stem of words\n",
        "lemmatizer = WordNetLemmatizer()\n",
        "\n",
        "# lemmatize all the words in the vocab and convert them to lowercase\n",
        "# if the words don't appear in punctuation\n",
        "words = [lemmatizer.lemmatize(word.lower()) for word in words if word not in string.punctuation]\n",
        "# sorting the vocab and classes in alphabetical order and taking the # set to ensure no duplicates occur\n",
        "words = sorted(set(words))\n",
        "classes = sorted(set(classes))"
      ],
      "metadata": {
        "id": "19Xio4vq3V4l",
        "colab": {
          "base_uri": "https://localhost:8080/"
        },
        "outputId": "72d060db-8961-43ab-89ea-02a6b2afdccc"
      },
      "execution_count": null,
      "outputs": [
        {
          "output_type": "stream",
          "name": "stderr",
          "text": [
            "[nltk_data] Downloading package omw-1.4 to /root/nltk_data...\n"
          ]
        }
      ]
    },
    {
      "cell_type": "markdown",
      "source": [
        "# Step-5: Making the data Machine-friendly"
      ],
      "metadata": {
        "id": "MP4ZYngg4V4f"
      }
    },
    {
      "cell_type": "code",
      "source": [
        "#5 Text to Numbers\n",
        "training = []\n",
        "out_empty = [0] * len(classes)\n",
        "# creating the bag of words model\n",
        "for idx, doc in enumerate(data_X):\n",
        "  bow = []\n",
        "  text = lemmatizer.lemmatize(doc.lower())\n",
        "  for word in words:\n",
        "      bow.append(1) if word in text else bow.append(0)\n",
        "  # mark the index of class that the current pattern is associated\n",
        "  # tO\n",
        "  output_row = list(out_empty)\n",
        "  output_row[classes.index(data_y[idx])] = 1\n",
        "  # add the one hot encoded Bow and associated classes to training\n",
        "  training.append([bow, output_row])\n",
        "# shuffle the data and convert it to an array\n",
        "random.shuffle(training)\n",
        "training = np.array(training, dtype=object)\n",
        "# split the features and target labels\n",
        "train_X = np.array(list(training[:, 0]))\n",
        "train_Y = np.array(list(training[:, 1]))"
      ],
      "metadata": {
        "id": "OwOkaIQ84Z-t"
      },
      "execution_count": null,
      "outputs": []
    },
    {
      "cell_type": "markdown",
      "source": [
        "# Step-6: Building the Neural Network Model"
      ],
      "metadata": {
        "id": "mkBYy9K16Jbk"
      }
    },
    {
      "cell_type": "code",
      "source": [
        "#6 The Neural Network Model\n",
        "model = Sequential()\n",
        "model.add(Dense (128, input_shape=(len(train_X[0]),), activation=\"relu\"))\n",
        "model.add(Dropout(0.5))\n",
        "model.add(Dense(64, activation=\"relu\"))\n",
        "model.add(Dropout(0.5))\n",
        "model.add(Dense(len(train_Y[0]), activation = \"softmax\"))\n",
        "adam = tf.keras.optimizers.legacy.Adam(learning_rate=0.01, decay=1e-6)\n",
        "model.compile(loss='categorical_crossentropy',\n",
        "               optimizer=adam,\n",
        "               metrics=[\"accuracy\"])\n",
        "print(model.summary())\n",
        "model.fit(x=train_X, y=train_Y, epochs=150, verbose=1)"
      ],
      "metadata": {
        "id": "sO5ZHgZU6MbI",
        "colab": {
          "base_uri": "https://localhost:8080/"
        },
        "outputId": "7fad4786-51f3-486a-b02f-3b0bd4613e9c"
      },
      "execution_count": null,
      "outputs": [
        {
          "output_type": "stream",
          "name": "stdout",
          "text": [
            "Model: \"sequential\"\n",
            "_________________________________________________________________\n",
            " Layer (type)                Output Shape              Param #   \n",
            "=================================================================\n",
            " dense (Dense)               (None, 128)               16640     \n",
            "                                                                 \n",
            " dropout (Dropout)           (None, 128)               0         \n",
            "                                                                 \n",
            " dense_1 (Dense)             (None, 64)                8256      \n",
            "                                                                 \n",
            " dropout_1 (Dropout)         (None, 64)                0         \n",
            "                                                                 \n",
            " dense_2 (Dense)             (None, 32)                2080      \n",
            "                                                                 \n",
            "=================================================================\n",
            "Total params: 26,976\n",
            "Trainable params: 26,976\n",
            "Non-trainable params: 0\n",
            "_________________________________________________________________\n",
            "None\n",
            "Epoch 1/150\n",
            "4/4 [==============================] - 1s 6ms/step - loss: 3.5171 - accuracy: 0.0354\n",
            "Epoch 2/150\n",
            "4/4 [==============================] - 0s 5ms/step - loss: 3.3650 - accuracy: 0.1239\n",
            "Epoch 3/150\n",
            "4/4 [==============================] - 0s 4ms/step - loss: 3.1920 - accuracy: 0.1327\n",
            "Epoch 4/150\n",
            "4/4 [==============================] - 0s 4ms/step - loss: 3.1504 - accuracy: 0.1593\n",
            "Epoch 5/150\n",
            "4/4 [==============================] - 0s 5ms/step - loss: 2.8768 - accuracy: 0.2035\n",
            "Epoch 6/150\n",
            "4/4 [==============================] - 0s 5ms/step - loss: 2.7171 - accuracy: 0.2655\n",
            "Epoch 7/150\n",
            "4/4 [==============================] - 0s 4ms/step - loss: 2.4979 - accuracy: 0.3274\n",
            "Epoch 8/150\n",
            "4/4 [==============================] - 0s 4ms/step - loss: 2.1292 - accuracy: 0.4071\n",
            "Epoch 9/150\n",
            "4/4 [==============================] - 0s 7ms/step - loss: 2.0112 - accuracy: 0.4425\n",
            "Epoch 10/150\n",
            "4/4 [==============================] - 0s 5ms/step - loss: 1.9214 - accuracy: 0.4159\n",
            "Epoch 11/150\n",
            "4/4 [==============================] - 0s 5ms/step - loss: 1.7358 - accuracy: 0.5221\n",
            "Epoch 12/150\n",
            "4/4 [==============================] - 0s 5ms/step - loss: 1.4811 - accuracy: 0.5752\n",
            "Epoch 13/150\n",
            "4/4 [==============================] - 0s 4ms/step - loss: 1.3104 - accuracy: 0.6372\n",
            "Epoch 14/150\n",
            "4/4 [==============================] - 0s 6ms/step - loss: 1.3146 - accuracy: 0.6726\n",
            "Epoch 15/150\n",
            "4/4 [==============================] - 0s 5ms/step - loss: 1.2234 - accuracy: 0.6814\n",
            "Epoch 16/150\n",
            "4/4 [==============================] - 0s 5ms/step - loss: 0.9900 - accuracy: 0.7168\n",
            "Epoch 17/150\n",
            "4/4 [==============================] - 0s 5ms/step - loss: 0.8990 - accuracy: 0.7257\n",
            "Epoch 18/150\n",
            "4/4 [==============================] - 0s 5ms/step - loss: 0.8564 - accuracy: 0.7345\n",
            "Epoch 19/150\n",
            "4/4 [==============================] - 0s 4ms/step - loss: 0.8873 - accuracy: 0.7522\n",
            "Epoch 20/150\n",
            "4/4 [==============================] - 0s 5ms/step - loss: 0.6573 - accuracy: 0.7876\n",
            "Epoch 21/150\n",
            "4/4 [==============================] - 0s 5ms/step - loss: 0.8609 - accuracy: 0.7168\n",
            "Epoch 22/150\n",
            "4/4 [==============================] - 0s 5ms/step - loss: 0.8528 - accuracy: 0.7080\n",
            "Epoch 23/150\n",
            "4/4 [==============================] - 0s 5ms/step - loss: 0.7266 - accuracy: 0.8142\n",
            "Epoch 24/150\n",
            "4/4 [==============================] - 0s 4ms/step - loss: 0.6630 - accuracy: 0.7699\n",
            "Epoch 25/150\n",
            "4/4 [==============================] - 0s 6ms/step - loss: 0.7274 - accuracy: 0.7522\n",
            "Epoch 26/150\n",
            "4/4 [==============================] - 0s 6ms/step - loss: 0.4833 - accuracy: 0.8584\n",
            "Epoch 27/150\n",
            "4/4 [==============================] - 0s 4ms/step - loss: 0.7158 - accuracy: 0.7965\n",
            "Epoch 28/150\n",
            "4/4 [==============================] - 0s 4ms/step - loss: 0.5489 - accuracy: 0.8673\n",
            "Epoch 29/150\n",
            "4/4 [==============================] - 0s 4ms/step - loss: 0.5466 - accuracy: 0.8496\n",
            "Epoch 30/150\n",
            "4/4 [==============================] - 0s 4ms/step - loss: 0.4612 - accuracy: 0.8584\n",
            "Epoch 31/150\n",
            "4/4 [==============================] - 0s 5ms/step - loss: 0.4539 - accuracy: 0.8850\n",
            "Epoch 32/150\n",
            "4/4 [==============================] - 0s 4ms/step - loss: 0.4129 - accuracy: 0.9027\n",
            "Epoch 33/150\n",
            "4/4 [==============================] - 0s 4ms/step - loss: 0.3624 - accuracy: 0.8938\n",
            "Epoch 34/150\n",
            "4/4 [==============================] - 0s 4ms/step - loss: 0.4361 - accuracy: 0.8584\n",
            "Epoch 35/150\n",
            "4/4 [==============================] - 0s 5ms/step - loss: 0.2876 - accuracy: 0.9204\n",
            "Epoch 36/150\n",
            "4/4 [==============================] - 0s 5ms/step - loss: 0.3272 - accuracy: 0.8761\n",
            "Epoch 37/150\n",
            "4/4 [==============================] - 0s 5ms/step - loss: 0.4384 - accuracy: 0.8761\n",
            "Epoch 38/150\n",
            "4/4 [==============================] - 0s 5ms/step - loss: 0.2674 - accuracy: 0.9204\n",
            "Epoch 39/150\n",
            "4/4 [==============================] - 0s 5ms/step - loss: 0.3791 - accuracy: 0.8938\n",
            "Epoch 40/150\n",
            "4/4 [==============================] - 0s 5ms/step - loss: 0.3012 - accuracy: 0.9027\n",
            "Epoch 41/150\n",
            "4/4 [==============================] - 0s 5ms/step - loss: 0.2728 - accuracy: 0.9115\n",
            "Epoch 42/150\n",
            "4/4 [==============================] - 0s 5ms/step - loss: 0.3633 - accuracy: 0.8761\n",
            "Epoch 43/150\n",
            "4/4 [==============================] - 0s 5ms/step - loss: 0.4545 - accuracy: 0.8850\n",
            "Epoch 44/150\n",
            "4/4 [==============================] - 0s 5ms/step - loss: 0.2431 - accuracy: 0.9381\n",
            "Epoch 45/150\n",
            "4/4 [==============================] - 0s 5ms/step - loss: 0.4266 - accuracy: 0.8673\n",
            "Epoch 46/150\n",
            "4/4 [==============================] - 0s 8ms/step - loss: 0.2171 - accuracy: 0.9381\n",
            "Epoch 47/150\n",
            "4/4 [==============================] - 0s 7ms/step - loss: 0.3479 - accuracy: 0.8938\n",
            "Epoch 48/150\n",
            "4/4 [==============================] - 0s 5ms/step - loss: 0.2519 - accuracy: 0.9115\n",
            "Epoch 49/150\n",
            "4/4 [==============================] - 0s 5ms/step - loss: 0.2960 - accuracy: 0.9115\n",
            "Epoch 50/150\n",
            "4/4 [==============================] - 0s 5ms/step - loss: 0.2616 - accuracy: 0.9381\n",
            "Epoch 51/150\n",
            "4/4 [==============================] - 0s 5ms/step - loss: 0.3103 - accuracy: 0.8761\n",
            "Epoch 52/150\n",
            "4/4 [==============================] - 0s 5ms/step - loss: 0.3463 - accuracy: 0.8673\n",
            "Epoch 53/150\n",
            "4/4 [==============================] - 0s 4ms/step - loss: 0.3427 - accuracy: 0.9027\n",
            "Epoch 54/150\n",
            "4/4 [==============================] - 0s 5ms/step - loss: 0.3434 - accuracy: 0.8761\n",
            "Epoch 55/150\n",
            "4/4 [==============================] - 0s 5ms/step - loss: 0.3915 - accuracy: 0.8673\n",
            "Epoch 56/150\n",
            "4/4 [==============================] - 0s 4ms/step - loss: 0.3032 - accuracy: 0.9027\n",
            "Epoch 57/150\n",
            "4/4 [==============================] - 0s 5ms/step - loss: 0.2141 - accuracy: 0.9115\n",
            "Epoch 58/150\n",
            "4/4 [==============================] - 0s 6ms/step - loss: 0.1755 - accuracy: 0.9381\n",
            "Epoch 59/150\n",
            "4/4 [==============================] - 0s 6ms/step - loss: 0.2839 - accuracy: 0.8938\n",
            "Epoch 60/150\n",
            "4/4 [==============================] - 0s 4ms/step - loss: 0.2681 - accuracy: 0.8850\n",
            "Epoch 61/150\n",
            "4/4 [==============================] - 0s 5ms/step - loss: 0.2667 - accuracy: 0.8761\n",
            "Epoch 62/150\n",
            "4/4 [==============================] - 0s 7ms/step - loss: 0.2171 - accuracy: 0.9381\n",
            "Epoch 63/150\n",
            "4/4 [==============================] - 0s 4ms/step - loss: 0.4038 - accuracy: 0.8850\n",
            "Epoch 64/150\n",
            "4/4 [==============================] - 0s 5ms/step - loss: 0.2957 - accuracy: 0.9204\n",
            "Epoch 65/150\n",
            "4/4 [==============================] - 0s 7ms/step - loss: 0.1176 - accuracy: 0.9646\n",
            "Epoch 66/150\n",
            "4/4 [==============================] - 0s 7ms/step - loss: 0.1987 - accuracy: 0.9381\n",
            "Epoch 67/150\n",
            "4/4 [==============================] - 0s 5ms/step - loss: 0.2148 - accuracy: 0.9204\n",
            "Epoch 68/150\n",
            "4/4 [==============================] - 0s 6ms/step - loss: 0.2318 - accuracy: 0.9027\n",
            "Epoch 69/150\n",
            "4/4 [==============================] - 0s 6ms/step - loss: 0.3392 - accuracy: 0.8584\n",
            "Epoch 70/150\n",
            "4/4 [==============================] - 0s 5ms/step - loss: 0.2630 - accuracy: 0.8938\n",
            "Epoch 71/150\n",
            "4/4 [==============================] - 0s 4ms/step - loss: 0.2141 - accuracy: 0.9469\n",
            "Epoch 72/150\n",
            "4/4 [==============================] - 0s 4ms/step - loss: 0.1746 - accuracy: 0.9469\n",
            "Epoch 73/150\n",
            "4/4 [==============================] - 0s 5ms/step - loss: 0.2107 - accuracy: 0.9204\n",
            "Epoch 74/150\n",
            "4/4 [==============================] - 0s 4ms/step - loss: 0.1690 - accuracy: 0.9469\n",
            "Epoch 75/150\n",
            "4/4 [==============================] - 0s 6ms/step - loss: 0.1598 - accuracy: 0.9381\n",
            "Epoch 76/150\n",
            "4/4 [==============================] - 0s 5ms/step - loss: 0.1799 - accuracy: 0.9204\n",
            "Epoch 77/150\n",
            "4/4 [==============================] - 0s 4ms/step - loss: 0.3172 - accuracy: 0.8850\n",
            "Epoch 78/150\n",
            "4/4 [==============================] - 0s 5ms/step - loss: 0.1621 - accuracy: 0.9204\n",
            "Epoch 79/150\n",
            "4/4 [==============================] - 0s 7ms/step - loss: 0.2700 - accuracy: 0.8850\n",
            "Epoch 80/150\n",
            "4/4 [==============================] - 0s 5ms/step - loss: 0.2437 - accuracy: 0.9469\n",
            "Epoch 81/150\n",
            "4/4 [==============================] - 0s 6ms/step - loss: 0.2132 - accuracy: 0.9292\n",
            "Epoch 82/150\n",
            "4/4 [==============================] - 0s 8ms/step - loss: 0.2781 - accuracy: 0.9381\n",
            "Epoch 83/150\n",
            "4/4 [==============================] - 0s 6ms/step - loss: 0.2894 - accuracy: 0.9204\n",
            "Epoch 84/150\n",
            "4/4 [==============================] - 0s 7ms/step - loss: 0.1486 - accuracy: 0.9469\n",
            "Epoch 85/150\n",
            "4/4 [==============================] - 0s 6ms/step - loss: 0.2275 - accuracy: 0.9292\n",
            "Epoch 86/150\n",
            "4/4 [==============================] - 0s 6ms/step - loss: 0.1862 - accuracy: 0.9381\n",
            "Epoch 87/150\n",
            "4/4 [==============================] - 0s 5ms/step - loss: 0.2436 - accuracy: 0.8938\n",
            "Epoch 88/150\n",
            "4/4 [==============================] - 0s 7ms/step - loss: 0.1295 - accuracy: 0.9646\n",
            "Epoch 89/150\n",
            "4/4 [==============================] - 0s 8ms/step - loss: 0.2075 - accuracy: 0.9027\n",
            "Epoch 90/150\n",
            "4/4 [==============================] - 0s 6ms/step - loss: 0.1055 - accuracy: 0.9735\n",
            "Epoch 91/150\n",
            "4/4 [==============================] - 0s 5ms/step - loss: 0.2200 - accuracy: 0.9204\n",
            "Epoch 92/150\n",
            "4/4 [==============================] - 0s 5ms/step - loss: 0.2216 - accuracy: 0.9204\n",
            "Epoch 93/150\n",
            "4/4 [==============================] - 0s 5ms/step - loss: 0.1257 - accuracy: 0.9469\n",
            "Epoch 94/150\n",
            "4/4 [==============================] - 0s 6ms/step - loss: 0.2358 - accuracy: 0.9204\n",
            "Epoch 95/150\n",
            "4/4 [==============================] - 0s 6ms/step - loss: 0.2086 - accuracy: 0.9292\n",
            "Epoch 96/150\n",
            "4/4 [==============================] - 0s 6ms/step - loss: 0.0943 - accuracy: 0.9823\n",
            "Epoch 97/150\n",
            "4/4 [==============================] - 0s 5ms/step - loss: 0.3722 - accuracy: 0.8584\n",
            "Epoch 98/150\n",
            "4/4 [==============================] - 0s 6ms/step - loss: 0.2324 - accuracy: 0.9204\n",
            "Epoch 99/150\n",
            "4/4 [==============================] - 0s 7ms/step - loss: 0.1996 - accuracy: 0.9381\n",
            "Epoch 100/150\n",
            "4/4 [==============================] - 0s 6ms/step - loss: 0.1168 - accuracy: 0.9646\n",
            "Epoch 101/150\n",
            "4/4 [==============================] - 0s 5ms/step - loss: 0.2496 - accuracy: 0.9381\n",
            "Epoch 102/150\n",
            "4/4 [==============================] - 0s 5ms/step - loss: 0.1973 - accuracy: 0.9115\n",
            "Epoch 103/150\n",
            "4/4 [==============================] - 0s 6ms/step - loss: 0.1731 - accuracy: 0.9381\n",
            "Epoch 104/150\n",
            "4/4 [==============================] - 0s 5ms/step - loss: 0.1017 - accuracy: 0.9735\n",
            "Epoch 105/150\n",
            "4/4 [==============================] - 0s 5ms/step - loss: 0.1780 - accuracy: 0.9469\n",
            "Epoch 106/150\n",
            "4/4 [==============================] - 0s 6ms/step - loss: 0.2023 - accuracy: 0.9381\n",
            "Epoch 107/150\n",
            "4/4 [==============================] - 0s 7ms/step - loss: 0.1992 - accuracy: 0.9469\n",
            "Epoch 108/150\n",
            "4/4 [==============================] - 0s 7ms/step - loss: 0.1892 - accuracy: 0.9292\n",
            "Epoch 109/150\n",
            "4/4 [==============================] - 0s 9ms/step - loss: 0.1353 - accuracy: 0.9381\n",
            "Epoch 110/150\n",
            "4/4 [==============================] - 0s 7ms/step - loss: 0.1859 - accuracy: 0.9292\n",
            "Epoch 111/150\n",
            "4/4 [==============================] - 0s 5ms/step - loss: 0.2194 - accuracy: 0.9027\n",
            "Epoch 112/150\n",
            "4/4 [==============================] - 0s 6ms/step - loss: 0.0929 - accuracy: 0.9735\n",
            "Epoch 113/150\n",
            "4/4 [==============================] - 0s 5ms/step - loss: 0.1489 - accuracy: 0.9381\n",
            "Epoch 114/150\n",
            "4/4 [==============================] - 0s 5ms/step - loss: 0.1281 - accuracy: 0.9735\n",
            "Epoch 115/150\n",
            "4/4 [==============================] - 0s 6ms/step - loss: 0.1949 - accuracy: 0.9292\n",
            "Epoch 116/150\n",
            "4/4 [==============================] - 0s 6ms/step - loss: 0.1553 - accuracy: 0.9292\n",
            "Epoch 117/150\n",
            "4/4 [==============================] - 0s 6ms/step - loss: 0.1690 - accuracy: 0.9381\n",
            "Epoch 118/150\n",
            "4/4 [==============================] - 0s 6ms/step - loss: 0.2925 - accuracy: 0.9115\n",
            "Epoch 119/150\n",
            "4/4 [==============================] - 0s 6ms/step - loss: 0.1335 - accuracy: 0.9381\n",
            "Epoch 120/150\n",
            "4/4 [==============================] - 0s 6ms/step - loss: 0.1533 - accuracy: 0.9381\n",
            "Epoch 121/150\n",
            "4/4 [==============================] - 0s 6ms/step - loss: 0.1679 - accuracy: 0.9735\n",
            "Epoch 122/150\n",
            "4/4 [==============================] - 0s 5ms/step - loss: 0.1508 - accuracy: 0.9558\n",
            "Epoch 123/150\n",
            "4/4 [==============================] - 0s 6ms/step - loss: 0.0917 - accuracy: 0.9558\n",
            "Epoch 124/150\n",
            "4/4 [==============================] - 0s 6ms/step - loss: 0.1198 - accuracy: 0.9469\n",
            "Epoch 125/150\n",
            "4/4 [==============================] - 0s 5ms/step - loss: 0.2393 - accuracy: 0.9292\n",
            "Epoch 126/150\n",
            "4/4 [==============================] - 0s 6ms/step - loss: 0.1775 - accuracy: 0.9558\n",
            "Epoch 127/150\n",
            "4/4 [==============================] - 0s 5ms/step - loss: 0.1901 - accuracy: 0.9292\n",
            "Epoch 128/150\n",
            "4/4 [==============================] - 0s 5ms/step - loss: 0.1197 - accuracy: 0.9558\n",
            "Epoch 129/150\n",
            "4/4 [==============================] - 0s 5ms/step - loss: 0.1704 - accuracy: 0.9292\n",
            "Epoch 130/150\n",
            "4/4 [==============================] - 0s 7ms/step - loss: 0.1716 - accuracy: 0.9204\n",
            "Epoch 131/150\n",
            "4/4 [==============================] - 0s 6ms/step - loss: 0.1942 - accuracy: 0.9469\n",
            "Epoch 132/150\n",
            "4/4 [==============================] - 0s 6ms/step - loss: 0.1326 - accuracy: 0.9381\n",
            "Epoch 133/150\n",
            "4/4 [==============================] - 0s 5ms/step - loss: 0.0674 - accuracy: 0.9646\n",
            "Epoch 134/150\n",
            "4/4 [==============================] - 0s 5ms/step - loss: 0.0911 - accuracy: 0.9735\n",
            "Epoch 135/150\n",
            "4/4 [==============================] - 0s 5ms/step - loss: 0.2032 - accuracy: 0.9115\n",
            "Epoch 136/150\n",
            "4/4 [==============================] - 0s 6ms/step - loss: 0.3305 - accuracy: 0.9204\n",
            "Epoch 137/150\n",
            "4/4 [==============================] - 0s 7ms/step - loss: 0.1444 - accuracy: 0.9558\n",
            "Epoch 138/150\n",
            "4/4 [==============================] - 0s 6ms/step - loss: 0.0757 - accuracy: 0.9646\n",
            "Epoch 139/150\n",
            "4/4 [==============================] - 0s 7ms/step - loss: 0.2160 - accuracy: 0.9115\n",
            "Epoch 140/150\n",
            "4/4 [==============================] - 0s 5ms/step - loss: 0.1787 - accuracy: 0.9204\n",
            "Epoch 141/150\n",
            "4/4 [==============================] - 0s 6ms/step - loss: 0.1335 - accuracy: 0.9469\n",
            "Epoch 142/150\n",
            "4/4 [==============================] - 0s 5ms/step - loss: 0.1835 - accuracy: 0.9381\n",
            "Epoch 143/150\n",
            "4/4 [==============================] - 0s 5ms/step - loss: 0.0749 - accuracy: 0.9735\n",
            "Epoch 144/150\n",
            "4/4 [==============================] - 0s 6ms/step - loss: 0.1610 - accuracy: 0.9381\n",
            "Epoch 145/150\n",
            "4/4 [==============================] - 0s 6ms/step - loss: 0.2700 - accuracy: 0.9027\n",
            "Epoch 146/150\n",
            "4/4 [==============================] - 0s 6ms/step - loss: 0.1494 - accuracy: 0.9469\n",
            "Epoch 147/150\n",
            "4/4 [==============================] - 0s 6ms/step - loss: 0.2117 - accuracy: 0.9204\n",
            "Epoch 148/150\n",
            "4/4 [==============================] - 0s 6ms/step - loss: 0.0991 - accuracy: 0.9646\n",
            "Epoch 149/150\n",
            "4/4 [==============================] - 0s 7ms/step - loss: 0.1864 - accuracy: 0.9735\n",
            "Epoch 150/150\n",
            "4/4 [==============================] - 0s 6ms/step - loss: 0.1266 - accuracy: 0.9469\n"
          ]
        },
        {
          "output_type": "execute_result",
          "data": {
            "text/plain": [
              "<keras.callbacks.History at 0x7fc8ec2e7bb0>"
            ]
          },
          "metadata": {},
          "execution_count": 6
        }
      ]
    },
    {
      "cell_type": "markdown",
      "source": [
        "# Step-7: Pre-processing the User’s Input"
      ],
      "metadata": {
        "id": "9IzfgvjmB__2"
      }
    },
    {
      "cell_type": "code",
      "source": [
        "#7 Preprocessing the Input\n",
        "def clean_text(text):\n",
        "  tokens = nltk.word_tokenize(text)\n",
        "  tokens = [lemmatizer.lemmatize (word) for word in tokens]\n",
        "  return tokens\n",
        "\n",
        "def bag_of_words(text, vocab):\n",
        "  tokens = clean_text(text)\n",
        "  bow = [0] * len(vocab)\n",
        "  for w in tokens:\n",
        "    for idx, word in enumerate(vocab):\n",
        "      if word == w:\n",
        "        bow[idx] = 1\n",
        "  return np.array(bow)\n",
        "\n",
        "def pred_class(text, vocab, labels):\n",
        "  bow = bag_of_words(text, vocab)\n",
        "  result = model.predict(np.array([bow]))[0] #Extracting probabilities\n",
        "  thresh = 0.5\n",
        "  y_pred = [[indx, res] for indx, res in enumerate(result) if res > thresh]\n",
        "  y_pred.sort(key=lambda x: x[1], reverse=True) #Sorting by values of probability in decreasing order\n",
        "  return_list = []\n",
        "  for r in y_pred:\n",
        "    return_list.append(labels[r[0]]) #Contains labels(tags) for highest probability\n",
        "  return return_list\n",
        "\n",
        "def get_response(intents_list, intents_json):\n",
        "  if len(intents_list) == 0:\n",
        "    result = \"Sorry! I don't understand.\"\n",
        "  else:\n",
        "    tag = intents_list[0]\n",
        "    list_of_intents = intents_json[\"intents\"]\n",
        "    for i in list_of_intents:\n",
        "      if i[\"tag\"] == tag:\n",
        "        result = random.choice (i[\"responses\"])\n",
        "        break\n",
        "  return result"
      ],
      "metadata": {
        "id": "BKkcmxhYCIj3"
      },
      "execution_count": null,
      "outputs": []
    },
    {
      "cell_type": "markdown",
      "source": [
        "# Step-8: Calling the Relevant Functions and interacting with the ChatBot"
      ],
      "metadata": {
        "id": "u_8r9yWVGYIT"
      }
    },
    {
      "cell_type": "code",
      "source": [
        "# 8 Interacting with the chatbot\n",
        "print(\"Press 0 if you don't want to chat with our ChatBot.\")\n",
        "while True:\n",
        "  message = input(\"\")\n",
        "  if message == \"0\":\n",
        "    break\n",
        "  intents = pred_class(message, words, classes)\n",
        "  result = get_response(intents, data)\n",
        "  print(result)"
      ],
      "metadata": {
        "id": "UksJUx4rGitC",
        "colab": {
          "base_uri": "https://localhost:8080/"
        },
        "outputId": "5f49a67f-fce8-4487-846c-4f131a7fe817"
      },
      "execution_count": null,
      "outputs": [
        {
          "name": "stdout",
          "output_type": "stream",
          "text": [
            "Press 0 if you don't want to chat with our ChatBot.\n",
            "hello\n",
            "1/1 [==============================] - 0s 90ms/step\n",
            "Hi there, how can I help?\n",
            "who are you\n",
            "1/1 [==============================] - 0s 34ms/step\n",
            "I am Ted, a Deep-Learning chatbot\n",
            "who made you\n",
            "1/1 [==============================] - 0s 36ms/step\n",
            "I was made by Noura and her group :*\n",
            "hpw old are you\n",
            "1/1 [==============================] - 0s 25ms/step\n",
            "I was made in 2023, if that's what you are asking!\n",
            "0\n"
          ]
        }
      ]
    }
  ]
}